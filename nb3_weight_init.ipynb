{
 "cells": [
  {
   "cell_type": "code",
   "execution_count": 19,
   "metadata": {},
   "outputs": [],
   "source": [
    "import numpy as np\n",
    "import pandas as pd\n",
    "import matplotlib.pyplot as plt\n",
    "\n",
    "\n",
    "from fcnn3_weight_init import NN"
   ]
  },
  {
   "cell_type": "code",
   "execution_count": 20,
   "metadata": {},
   "outputs": [],
   "source": [
    "ds = pd.read_csv('./bank-churn.csv')"
   ]
  },
  {
   "cell_type": "code",
   "execution_count": 21,
   "metadata": {},
   "outputs": [],
   "source": [
    "num1 = ds[ds['Exited']==1].__len__()\n",
    "num0 = num1"
   ]
  },
  {
   "cell_type": "code",
   "execution_count": 22,
   "metadata": {},
   "outputs": [],
   "source": [
    "ds = pd.concat([ds[ds['Exited']==1][:num1], ds[ds['Exited']==0][:num0]], axis=0)"
   ]
  },
  {
   "cell_type": "code",
   "execution_count": 23,
   "metadata": {},
   "outputs": [],
   "source": [
    "ds = ds.sample(frac=1)"
   ]
  },
  {
   "cell_type": "code",
   "execution_count": 24,
   "metadata": {},
   "outputs": [],
   "source": [
    "x = ds[['CreditScore', 'Tenure', 'Balance', 'NumOfProducts', 'HasCrCard', 'IsActiveMember', 'EstimatedSalary']]\n",
    "y = ds['Exited']"
   ]
  },
  {
   "cell_type": "code",
   "execution_count": 25,
   "metadata": {},
   "outputs": [],
   "source": [
    "m = len(x)\n",
    "tr_cv = round(0.8 * m)  # border between train and dev datasets\n",
    "cv_test = round(0.9 * m) # border between dev and test datasets\n",
    "\n",
    "X_train, X_cv, X_test = x[:tr_cv], x[tr_cv:cv_test], x[cv_test:]\n",
    "y_train, y_cv, y_test = y[:tr_cv], y[tr_cv:cv_test], y[cv_test:]"
   ]
  },
  {
   "cell_type": "code",
   "execution_count": 26,
   "metadata": {},
   "outputs": [],
   "source": [
    "def z_standartization(df, columns):\n",
    "  mean_dict = {}\n",
    "  sd_dict = {}\n",
    "  new_df = df.copy()\n",
    "  for col in columns:\n",
    "    c = new_df[col]\n",
    "    mean = c.mean()\n",
    "    sd = c.std()\n",
    "    new_df[col] = (c - mean) / sd\n",
    "\n",
    "    mean_dict[col] = mean\n",
    "    sd_dict[col] = sd\n",
    "  return new_df, mean_dict, sd_dict"
   ]
  },
  {
   "cell_type": "code",
   "execution_count": 27,
   "metadata": {},
   "outputs": [],
   "source": [
    "def z_standartization_means_sd_from_dict(df, mean_dict, sd_dict):\n",
    "  new_df = df.copy()\n",
    "  for col, mean in mean_dict.items():\n",
    "    sd = sd_dict[col]\n",
    "\n",
    "    new_df[col] = (new_df[col] - mean) / sd\n",
    "  \n",
    "  return new_df\n"
   ]
  },
  {
   "cell_type": "code",
   "execution_count": 28,
   "metadata": {},
   "outputs": [],
   "source": [
    "columns_to_scale = ['CreditScore', 'Tenure', 'Balance', 'NumOfProducts', 'EstimatedSalary']"
   ]
  },
  {
   "cell_type": "code",
   "execution_count": 29,
   "metadata": {},
   "outputs": [],
   "source": [
    "scaled_X_train, mean_X_train, sd_X_train = z_standartization(X_train, columns_to_scale)\n",
    "\n",
    "scaled_X_cv = z_standartization_means_sd_from_dict(X_cv, mean_X_train, sd_X_train)\n",
    "scaled_X_test = z_standartization_means_sd_from_dict(X_test, mean_X_train, sd_X_train)"
   ]
  },
  {
   "cell_type": "code",
   "execution_count": 30,
   "metadata": {},
   "outputs": [],
   "source": [
    "scaled_X_train = np.array(scaled_X_train, dtype=np.float64).T\n",
    "scaled_X_cv = np.array(scaled_X_cv, dtype=np.float64).T\n",
    "scaled_X_test = np.array(scaled_X_test, dtype=np.float64).T\n",
    "\n",
    "y_train, y_cv, y_test = np.array(y_train).reshape(1, -1), np.array(y_cv).reshape(1, -1), np.array(y_test).reshape(1, -1)"
   ]
  },
  {
   "cell_type": "code",
   "execution_count": 31,
   "metadata": {},
   "outputs": [
    {
     "data": {
      "text/plain": [
       "(array([29485.,     0.,     0.,     0.,     0.,     0.,     0.,     0.,\n",
       "            0., 29646.]),\n",
       " array([0. , 0.1, 0.2, 0.3, 0.4, 0.5, 0.6, 0.7, 0.8, 0.9, 1. ]),\n",
       " <BarContainer object of 10 artists>)"
      ]
     },
     "execution_count": 31,
     "metadata": {},
     "output_type": "execute_result"
    },
    {
     "data": {
      "image/png": "[encoded data removed]",
      "text/plain": [
       "<Figure size 640x480 with 1 Axes>"
      ]
     },
     "metadata": {},
     "output_type": "display_data"
    }
   ],
   "source": [
    "plt.hist(y_train.T)"
   ]
  },
  {
   "cell_type": "code",
   "execution_count": 46,
   "metadata": {},
   "outputs": [],
   "source": [
    "model_1 = NN([7, 10, 10, 10, 10, 1])\n",
    "J_history = []\n",
    "J_cv_history = []"
   ]
  },
  {
   "cell_type": "code",
   "execution_count": 39,
   "metadata": {},
   "outputs": [],
   "source": [
    "# model_1.load_json('./model_params.json')"
   ]
  },
  {
   "cell_type": "code",
   "execution_count": 47,
   "metadata": {},
   "outputs": [],
   "source": [
    "epochs = 30"
   ]
  },
  {
   "cell_type": "code",
   "execution_count": 48,
   "metadata": {},
   "outputs": [
    {
     "name": "stdout",
     "output_type": "stream",
     "text": [
      "----------------------------------\n",
      "Changes in epoch 1:\n",
      "J: [[0.73123925]] => [[0.72484101]]\n",
      "MAE: [[0.49581864]] => [[0.49517015]]\n",
      "Accuracy: 29051/59131 (49.13%) => 29398/59131 (49.72%)\n",
      "J_cv: [[0.7653232]] => [[0.75337885]]\n",
      "MAE_cv: [[0.49771667]] => [[0.49686784]]\n",
      "Accuracy_cv: 3629/7392 (49.09%) => 3670/7392 (49.65%)\n",
      "----------------------------------\n",
      "Changes in epoch 2:\n",
      "J: [[0.72484101]] => [[0.72081709]]\n",
      "MAE: [[0.49517015]] => [[0.49439355]]\n",
      "Accuracy: 29398/59131 (49.72%) => 29595/59131 (50.05%)\n",
      "J_cv: [[0.75337885]] => [[0.74675266]]\n",
      "MAE_cv: [[0.49686784]] => [[0.49655172]]\n",
      "Accuracy_cv: 3670/7392 (49.65%) => 3670/7392 (49.65%)\n",
      "----------------------------------\n",
      "Changes in epoch 3:\n",
      "J: [[0.72081709]] => [[0.71646669]]\n",
      "MAE: [[0.49439355]] => [[0.49422402]]\n",
      "Accuracy: 29595/59131 (50.05%) => 29620/59131 (50.09%)\n",
      "J_cv: [[0.74675266]] => [[0.73922841]]\n",
      "MAE_cv: [[0.49655172]] => [[0.49528899]]\n",
      "Accuracy_cv: 3670/7392 (49.65%) => 3688/7392 (49.89%)\n",
      "----------------------------------\n",
      "Changes in epoch 4:\n",
      "J: [[0.71646669]] => [[0.71262155]]\n",
      "MAE: [[0.49422402]] => [[0.49339801]]\n",
      "Accuracy: 29620/59131 (50.09%) => 29870/59131 (50.51%)\n",
      "J_cv: [[0.73922841]] => [[0.73460516]]\n",
      "MAE_cv: [[0.49528899]] => [[0.49493124]]\n",
      "Accuracy_cv: 3688/7392 (49.89%) => 3691/7392 (49.93%)\n",
      "----------------------------------\n",
      "Changes in epoch 5:\n",
      "J: [[0.71262155]] => [[0.71083334]]\n",
      "MAE: [[0.49339801]] => [[0.49317122]]\n",
      "Accuracy: 29870/59131 (50.51%) => 29949/59131 (50.65%)\n",
      "J_cv: [[0.73460516]] => [[0.73166263]]\n",
      "MAE_cv: [[0.49493124]] => [[0.494929]]\n",
      "Accuracy_cv: 3691/7392 (49.93%) => 3698/7392 (50.03%)\n",
      "----------------------------------\n",
      "Changes in epoch 6:\n",
      "J: [[0.71083334]] => [[0.70791097]]\n",
      "MAE: [[0.49317122]] => [[0.4930201]]\n",
      "Accuracy: 29949/59131 (50.65%) => 29961/59131 (50.67%)\n",
      "J_cv: [[0.73166263]] => [[0.72673101]]\n",
      "MAE_cv: [[0.494929]] => [[0.49409431]]\n",
      "Accuracy_cv: 3698/7392 (50.03%) => 3705/7392 (50.12%)\n",
      "----------------------------------\n",
      "Changes in epoch 7:\n",
      "J: [[0.70791097]] => [[0.70583663]]\n",
      "MAE: [[0.4930201]] => [[0.49274459]]\n",
      "Accuracy: 29961/59131 (50.67%) => 29998/59131 (50.73%)\n",
      "J_cv: [[0.72673101]] => [[0.72353988]]\n",
      "MAE_cv: [[0.49409431]] => [[0.49361787]]\n",
      "Accuracy_cv: 3705/7392 (50.12%) => 3706/7392 (50.14%)\n",
      "----------------------------------\n",
      "Changes in epoch 8:\n",
      "J: [[0.70583663]] => [[0.70429792]]\n",
      "MAE: [[0.49274459]] => [[0.49252772]]\n",
      "Accuracy: 29998/59131 (50.73%) => 30022/59131 (50.77%)\n",
      "J_cv: [[0.72353988]] => [[0.72200566]]\n",
      "MAE_cv: [[0.49361787]] => [[0.49358204]]\n",
      "Accuracy_cv: 3706/7392 (50.14%) => 3702/7392 (50.08%)\n",
      "----------------------------------\n",
      "Changes in epoch 9:\n",
      "J: [[0.70429792]] => [[0.70355916]]\n",
      "MAE: [[0.49252772]] => [[0.49264414]]\n",
      "Accuracy: 30022/59131 (50.77%) => 30009/59131 (50.75%)\n",
      "J_cv: [[0.72200566]] => [[0.71308757]]\n",
      "MAE_cv: [[0.49358204]] => [[0.49372009]]\n",
      "Accuracy_cv: 3702/7392 (50.08%) => 3662/7392 (49.54%)\n",
      "----------------------------------\n",
      "Changes in epoch 10:\n",
      "J: [[0.70355916]] => [[0.70260403]]\n",
      "MAE: [[0.49264414]] => [[0.49242477]]\n",
      "Accuracy: 30009/59131 (50.75%) => 30012/59131 (50.76%)\n",
      "J_cv: [[0.71308757]] => [[0.71750079]]\n",
      "MAE_cv: [[0.49372009]] => [[0.49255738]]\n",
      "Accuracy_cv: 3662/7392 (49.54%) => 3723/7392 (50.37%)\n",
      "----------------------------------\n",
      "Changes in epoch 11:\n",
      "J: [[0.70260403]] => [[0.70212188]]\n",
      "MAE: [[0.49242477]] => [[0.49233885]]\n",
      "Accuracy: 30012/59131 (50.76%) => 29982/59131 (50.7%)\n",
      "J_cv: [[0.71750079]] => [[0.70968521]]\n",
      "MAE_cv: [[0.49255738]] => [[0.49315104]]\n",
      "Accuracy_cv: 3723/7392 (50.37%) => 3682/7392 (49.81%)\n",
      "----------------------------------\n",
      "Changes in epoch 12:\n",
      "J: [[0.70212188]] => [[0.70135547]]\n",
      "MAE: [[0.49233885]] => [[0.49215725]]\n",
      "Accuracy: 29982/59131 (50.7%) => 30003/59131 (50.74%)\n",
      "J_cv: [[0.70968521]] => [[0.71468304]]\n",
      "MAE_cv: [[0.49315104]] => [[0.49196931]]\n",
      "Accuracy_cv: 3682/7392 (49.81%) => 3724/7392 (50.38%)\n",
      "----------------------------------\n",
      "Changes in epoch 13:\n",
      "J: [[0.70135547]] => [[0.70080921]]\n",
      "MAE: [[0.49215725]] => [[0.49207731]]\n",
      "Accuracy: 30003/59131 (50.74%) => 30025/59131 (50.78%)\n",
      "J_cv: [[0.71468304]] => [[0.71210048]]\n",
      "MAE_cv: [[0.49196931]] => [[0.49111946]]\n",
      "Accuracy_cv: 3724/7392 (50.38%) => 3739/7392 (50.58%)\n",
      "----------------------------------\n",
      "Changes in epoch 14:\n",
      "J: [[0.70080921]] => [[0.69978197]]\n",
      "MAE: [[0.49207731]] => [[0.49128131]]\n",
      "Accuracy: 30025/59131 (50.78%) => 30044/59131 (50.81%)\n",
      "J_cv: [[0.71210048]] => [[0.70522255]]\n",
      "MAE_cv: [[0.49111946]] => [[0.49162068]]\n",
      "Accuracy_cv: 3739/7392 (50.58%) => 3715/7392 (50.26%)\n",
      "----------------------------------\n",
      "Changes in epoch 15:\n",
      "J: [[0.69978197]] => [[0.69956208]]\n",
      "MAE: [[0.49128131]] => [[0.49103213]]\n",
      "Accuracy: 30044/59131 (50.81%) => 30058/59131 (50.83%)\n",
      "J_cv: [[0.70522255]] => [[0.70892028]]\n",
      "MAE_cv: [[0.49162068]] => [[0.49009216]]\n",
      "Accuracy_cv: 3715/7392 (50.26%) => 3762/7392 (50.89%)\n",
      "----------------------------------\n",
      "Changes in epoch 16:\n",
      "J: [[0.69956208]] => [[0.69864359]]\n",
      "MAE: [[0.49103213]] => [[0.49101541]]\n",
      "Accuracy: 30058/59131 (50.83%) => 30064/59131 (50.84%)\n",
      "J_cv: [[0.70892028]] => [[0.70458495]]\n",
      "MAE_cv: [[0.49009216]] => [[0.49147651]]\n",
      "Accuracy_cv: 3762/7392 (50.89%) => 3716/7392 (50.27%)\n",
      "----------------------------------\n",
      "Changes in epoch 17:\n",
      "J: [[0.69864359]] => [[0.69842143]]\n",
      "MAE: [[0.49101541]] => [[0.49089082]]\n",
      "Accuracy: 30064/59131 (50.84%) => 30058/59131 (50.83%)\n",
      "J_cv: [[0.70458495]] => [[0.70644392]]\n",
      "MAE_cv: [[0.49147651]] => [[0.48926479]]\n",
      "Accuracy_cv: 3716/7392 (50.27%) => 3790/7392 (51.27%)\n",
      "----------------------------------\n",
      "Changes in epoch 18:\n",
      "J: [[0.69842143]] => [[0.69813307]]\n",
      "MAE: [[0.49089082]] => [[0.49083856]]\n",
      "Accuracy: 30058/59131 (50.83%) => 30067/59131 (50.85%)\n",
      "J_cv: [[0.70644392]] => [[0.70215929]]\n",
      "MAE_cv: [[0.48926479]] => [[0.49073859]]\n",
      "Accuracy_cv: 3790/7392 (51.27%) => 3741/7392 (50.61%)\n",
      "----------------------------------\n",
      "Changes in epoch 19:\n",
      "J: [[0.69813307]] => [[0.69814432]]\n",
      "MAE: [[0.49083856]] => [[0.49083445]]\n",
      "Accuracy: 30067/59131 (50.85%) => 30056/59131 (50.83%)\n",
      "J_cv: [[0.70215929]] => [[0.7011301]]\n",
      "MAE_cv: [[0.49073859]] => [[0.49033506]]\n",
      "Accuracy_cv: 3741/7392 (50.61%) => 3749/7392 (50.72%)\n",
      "----------------------------------\n",
      "Changes in epoch 20:\n",
      "J: [[0.69814432]] => [[0.69783335]]\n",
      "MAE: [[0.49083445]] => [[0.49080439]]\n",
      "Accuracy: 30056/59131 (50.83%) => 30065/59131 (50.84%)\n",
      "J_cv: [[0.7011301]] => [[0.70338717]]\n",
      "MAE_cv: [[0.49033506]] => [[0.4884119]]\n",
      "Accuracy_cv: 3749/7392 (50.72%) => 3817/7392 (51.64%)\n",
      "----------------------------------\n",
      "Changes in epoch 21:\n",
      "J: [[0.69783335]] => [[0.69756636]]\n",
      "MAE: [[0.49080439]] => [[0.49072681]]\n",
      "Accuracy: 30065/59131 (50.84%) => 30084/59131 (50.88%)\n",
      "J_cv: [[0.70338717]] => [[0.70036674]]\n",
      "MAE_cv: [[0.4884119]] => [[0.49023582]]\n",
      "Accuracy_cv: 3817/7392 (51.64%) => 3765/7392 (50.93%)\n"
     ]
    },
    {
     "ename": "KeyboardInterrupt",
     "evalue": "",
     "output_type": "error",
     "traceback": [
      "\u001b[1;31m---------------------------------------------------------------------------\u001b[0m",
      "\u001b[1;31mKeyboardInterrupt\u001b[0m                         Traceback (most recent call last)",
      "Cell \u001b[1;32mIn[48], line 1\u001b[0m\n\u001b[1;32m----> 1\u001b[0m J_h, J_cv_h \u001b[38;5;241m=\u001b[39m \u001b[43mmodel_1\u001b[49m\u001b[38;5;241;43m.\u001b[39;49m\u001b[43mbackward\u001b[49m\u001b[43m(\u001b[49m\u001b[43mscaled_X_train\u001b[49m\u001b[43m,\u001b[49m\u001b[43m \u001b[49m\u001b[43my_train\u001b[49m\u001b[43m,\u001b[49m\u001b[43m \u001b[49m\u001b[43ml_rate\u001b[49m\u001b[38;5;241;43m=\u001b[39;49m\u001b[38;5;241;43m0.1\u001b[39;49m\u001b[43m,\u001b[49m\u001b[43m \u001b[49m\u001b[43mepochs\u001b[49m\u001b[38;5;241;43m=\u001b[39;49m\u001b[43mepochs\u001b[49m\u001b[43m,\u001b[49m\u001b[43m \u001b[49m\u001b[43mkeep_prob\u001b[49m\u001b[38;5;241;43m=\u001b[39;49m\u001b[38;5;241;43m1\u001b[39;49m\u001b[43m,\u001b[49m\u001b[43m \u001b[49m\u001b[43mX_cv\u001b[49m\u001b[38;5;241;43m=\u001b[39;49m\u001b[43mscaled_X_cv\u001b[49m\u001b[43m,\u001b[49m\u001b[43m \u001b[49m\u001b[43mY_cv\u001b[49m\u001b[38;5;241;43m=\u001b[39;49m\u001b[43my_cv\u001b[49m\u001b[43m)\u001b[49m\n\u001b[0;32m      2\u001b[0m J_history \u001b[38;5;241m+\u001b[39m\u001b[38;5;241m=\u001b[39m J_h\n\u001b[0;32m      3\u001b[0m J_cv_history \u001b[38;5;241m+\u001b[39m\u001b[38;5;241m=\u001b[39m J_cv_h\n",
      "File \u001b[1;32mc:\\dev\\ds-ml\\ml-without-frameworks\\neural-network\\fcnn3_weight_init.py:123\u001b[0m, in \u001b[0;36mNN.backward\u001b[1;34m(self, X, Y, l_rate, epochs, keep_prob, X_cv, Y_cv)\u001b[0m\n\u001b[0;32m    118\u001b[0m   old_cv_accuracy \u001b[38;5;241m=\u001b[39m \u001b[38;5;28mself\u001b[39m\u001b[38;5;241m.\u001b[39maccuracy(old_cv_y_pred, Y_cv)\n\u001b[0;32m    121\u001b[0m m \u001b[38;5;241m=\u001b[39m X\u001b[38;5;241m.\u001b[39mshape[\u001b[38;5;241m1\u001b[39m]\n\u001b[1;32m--> 123\u001b[0m y_pred, Z_t, A_t \u001b[38;5;241m=\u001b[39m \u001b[38;5;28;43mself\u001b[39;49m\u001b[38;5;241;43m.\u001b[39;49m\u001b[43mforward\u001b[49m\u001b[43m(\u001b[49m\u001b[43mX\u001b[49m\u001b[43m,\u001b[49m\u001b[43m \u001b[49m\u001b[43mkeep_prob\u001b[49m\u001b[38;5;241;43m=\u001b[39;49m\u001b[43mkeep_prob\u001b[49m\u001b[43m,\u001b[49m\u001b[43m \u001b[49m\u001b[43mreturn_cache\u001b[49m\u001b[38;5;241;43m=\u001b[39;49m\u001b[38;5;28;43;01mTrue\u001b[39;49;00m\u001b[43m)\u001b[49m\n\u001b[0;32m    126\u001b[0m dA_t \u001b[38;5;241m=\u001b[39m [[] \u001b[38;5;28;01mfor\u001b[39;00m _ \u001b[38;5;129;01min\u001b[39;00m \u001b[38;5;28mrange\u001b[39m(\u001b[38;5;241m0\u001b[39m, \u001b[38;5;28mself\u001b[39m\u001b[38;5;241m.\u001b[39mL)] \u001b[38;5;241m+\u001b[39m [\u001b[38;5;28;01mNone\u001b[39;00m]  \u001b[38;5;66;03m# dont need dA of the last layer (skip to dZ)\u001b[39;00m\n\u001b[0;32m    127\u001b[0m dZ_last \u001b[38;5;241m=\u001b[39m A_t[\u001b[38;5;241m-\u001b[39m\u001b[38;5;241m1\u001b[39m] \u001b[38;5;241m-\u001b[39m Y\n",
      "File \u001b[1;32mc:\\dev\\ds-ml\\ml-without-frameworks\\neural-network\\fcnn3_weight_init.py:77\u001b[0m, in \u001b[0;36mNN.forward\u001b[1;34m(self, X, keep_prob, return_cache)\u001b[0m\n\u001b[0;32m     75\u001b[0m \u001b[38;5;28;01mfor\u001b[39;00m l \u001b[38;5;129;01min\u001b[39;00m \u001b[38;5;28mrange\u001b[39m(\u001b[38;5;241m1\u001b[39m, \u001b[38;5;28mself\u001b[39m\u001b[38;5;241m.\u001b[39mL):\n\u001b[0;32m     76\u001b[0m   Z_t[l] \u001b[38;5;241m=\u001b[39m np\u001b[38;5;241m.\u001b[39mmatmul(\u001b[38;5;28mself\u001b[39m\u001b[38;5;241m.\u001b[39mW_t[l], A_t[l\u001b[38;5;241m-\u001b[39m\u001b[38;5;241m1\u001b[39m]) \u001b[38;5;241m+\u001b[39m \u001b[38;5;28mself\u001b[39m\u001b[38;5;241m.\u001b[39mb_t[l]\n\u001b[1;32m---> 77\u001b[0m   A_t[l] \u001b[38;5;241m=\u001b[39m \u001b[38;5;28;43mself\u001b[39;49m\u001b[38;5;241;43m.\u001b[39;49m\u001b[43mReLU\u001b[49m\u001b[43m(\u001b[49m\u001b[43mZ_t\u001b[49m\u001b[43m[\u001b[49m\u001b[43ml\u001b[49m\u001b[43m]\u001b[49m\u001b[43m)\u001b[49m\n\u001b[0;32m     79\u001b[0m   \u001b[38;5;66;03m# dropout regularization\u001b[39;00m\n\u001b[0;32m     80\u001b[0m   \u001b[38;5;28;01mif\u001b[39;00m keep_prob \u001b[38;5;241m<\u001b[39m \u001b[38;5;241m1\u001b[39m:\n",
      "\u001b[1;31mKeyboardInterrupt\u001b[0m: "
     ]
    }
   ],
   "source": [
    "J_h, J_cv_h = model_1.backward(scaled_X_train, y_train, l_rate=0.1, epochs=epochs, keep_prob=1, X_cv=scaled_X_cv, Y_cv=y_cv)\n",
    "J_history += J_h\n",
    "J_cv_history += J_cv_h"
   ]
  },
  {
   "cell_type": "code",
   "execution_count": 41,
   "metadata": {},
   "outputs": [
    {
     "data": {
      "text/plain": [
       "(3, 3)"
      ]
     },
     "execution_count": 41,
     "metadata": {},
     "output_type": "execute_result"
    }
   ],
   "source": [
    "len(J_history), len(J_cv_history)"
   ]
  },
  {
   "cell_type": "code",
   "execution_count": 42,
   "metadata": {},
   "outputs": [
    {
     "data": {
      "text/plain": [
       "Text(0, 0.5, 'J value')"
      ]
     },
     "execution_count": 42,
     "metadata": {},
     "output_type": "execute_result"
    },
    {
     "data": {
      "image/png": "[encoded data removed]",
      "text/plain": [
       "<Figure size 640x480 with 1 Axes>"
      ]
     },
     "metadata": {},
     "output_type": "display_data"
    }
   ],
   "source": [
    "J_hist = [arr[0][0] for arr in J_history]\n",
    "J_cv_hist = [arr[0][0] for arr in J_cv_history]\n",
    "plt.plot(J_hist)\n",
    "plt.plot(J_cv_hist)\n",
    "plt.xlabel('# of iteration')\n",
    "plt.ylabel('J value')"
   ]
  },
  {
   "cell_type": "code",
   "execution_count": 167,
   "metadata": {},
   "outputs": [],
   "source": [
    "arr = np.random.rand(102459)"
   ]
  },
  {
   "cell_type": "code",
   "execution_count": 168,
   "metadata": {},
   "outputs": [],
   "source": [
    "mb_size = 1000\n",
    "mb_num = len(arr) // mb_size"
   ]
  },
  {
   "cell_type": "code",
   "execution_count": 169,
   "metadata": {},
   "outputs": [
    {
     "data": {
      "text/plain": [
       "102000"
      ]
     },
     "execution_count": 169,
     "metadata": {},
     "output_type": "execute_result"
    }
   ],
   "source": [
    "mb_size*mb_num"
   ]
  },
  {
   "cell_type": "code",
   "execution_count": 187,
   "metadata": {},
   "outputs": [
    {
     "data": {
      "text/plain": [
       "True"
      ]
     },
     "execution_count": 187,
     "metadata": {},
     "output_type": "execute_result"
    }
   ],
   "source": [
    "1000000 == int(1e+6)"
   ]
  },
  {
   "cell_type": "code",
   "execution_count": 175,
   "metadata": {},
   "outputs": [
    {
     "data": {
      "text/plain": [
       "(102, 1000)"
      ]
     },
     "execution_count": 175,
     "metadata": {},
     "output_type": "execute_result"
    }
   ],
   "source": [
    "arr[:mb_num*mb_size].reshape(mb_num, mb_size).shape"
   ]
  },
  {
   "cell_type": "code",
   "execution_count": 192,
   "metadata": {},
   "outputs": [
    {
     "data": {
      "text/plain": [
       "0.2995648332047619"
      ]
     },
     "execution_count": 192,
     "metadata": {},
     "output_type": "execute_result"
    }
   ],
   "source": [
    "np.random.rand(2, 2).std()"
   ]
  },
  {
   "cell_type": "code",
   "execution_count": 200,
   "metadata": {},
   "outputs": [],
   "source": [
    "def softmax(arr):\n",
    "  new_arr = []\n",
    "  for el in arr:\n",
    "    new_arr.append(np.exp(el)/np.exp(arr).sum())\n",
    "  return new_arr"
   ]
  },
  {
   "cell_type": "code",
   "execution_count": 205,
   "metadata": {},
   "outputs": [
    {
     "data": {
      "text/plain": [
       "[0.528136412953437, 0.11784316240251767, 0.3540204246440453]"
      ]
     },
     "execution_count": 205,
     "metadata": {},
     "output_type": "execute_result"
    }
   ],
   "source": [
    "logits = np.array([0.5, -1, 0.1])\n",
    "softmax(logits)"
   ]
  }
 ],
 "metadata": {
  "kernelspec": {
   "display_name": ".ml-pytorch1",
   "language": "python",
   "name": "python3"
  },
  "language_info": {
   "codemirror_mode": {
    "name": "ipython",
    "version": 3
   },
   "file_extension": ".py",
   "mimetype": "text/x-python",
   "name": "python",
   "nbconvert_exporter": "python",
   "pygments_lexer": "ipython3",
   "version": "3.11.6"
  }
 },
 "nbformat": 4,
 "nbformat_minor": 2
}
